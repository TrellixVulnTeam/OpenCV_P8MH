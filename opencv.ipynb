{
 "cells": [
  {
   "cell_type": "markdown",
   "source": [
    "### 이미지 불러오기 및 저장\n",
    "---\n",
    "\n",
    "+ cv2.imread() : 이미지를 numpy배열로 반환"
   ],
   "metadata": {
    "collapsed": false,
    "pycharm": {
     "name": "#%% md\n"
    }
   }
  },
  {
   "cell_type": "code",
   "execution_count": 2,
   "metadata": {
    "collapsed": true,
    "pycharm": {
     "name": "#%%\n"
    }
   },
   "outputs": [],
   "source": [
    "# opencv 이미지 불러오기 및 저장\n",
    "import cv2\n",
    "\n",
    "img_file = 'image/jm.jpg' #이미지 경로\n",
    "save_file = 'image/jm_gray.jpg' #저장경로\n",
    "#imread(이미지를 읽어서 img에 변수 저장, 회색으로 읽기)\n",
    "img = cv2.imread(img_file, cv2.IMREAD_GRAYSCALE)\n",
    "\n",
    "if img is not None:\n",
    "    cv2.imshow('IMG', img) #제목'IMG'로 읽은 이미지 표시\n",
    "    cv2.imwrite(save_file, img) #imwrite(저장할 경로, 이미지)\n",
    "    cv2.waitKey() #키가 입력될 때까지 대기\n",
    "    cv2.destroyAllWindows() #창 모두 닫기\n",
    "\n",
    "else: #이미지가 없다면\n",
    "    print(\"NO IMAGE FILE.\")"
   ]
  },
  {
   "cell_type": "markdown",
   "source": [
    "### 동영상 및 카메라 프레임 읽기\n",
    "---\n",
    "\n",
    "+ cap = cv2.VideoCapture(file or index)\n",
    "    - file_path : 동영상 파일 경로\n",
    "    - index : 카메라 장치 번호, 0번부터  순차적으로 증가\n",
    "    - cap : VideoCapture 객체\n",
    "+ ret = cap.isOpened() : 객체 초기화 확인\n",
    "    - ret : 초기화 여부, True/False\n",
    "+ ret, img = cap.read() : 영상 프레임 읽기\n",
    "    - ret : 프레임 읽기 성공/실패, True/False\n",
    "        * ret값이 False라면, 장치에 문제 or 파일의 끝 도달\n",
    "    - img : 프레임 이미지, Numpy 배열 또는 None\n",
    "+ cap.set(id, value) : 프로퍼티 변경\n",
    "+ cap.get(id) : 프로퍼티 확인\n",
    "+ cap.release() : 캡처 자원 반납"
   ],
   "metadata": {
    "collapsed": false,
    "pycharm": {
     "name": "#%% md\n"
    }
   }
  },
  {
   "cell_type": "code",
   "execution_count": 4,
   "outputs": [],
   "source": [
    "import cv2\n",
    "video_file = \"image/dog.mp4\" #동영상 파일 경로\n",
    "cap = cv2.VideoCapture(video_file) #동영상 캡처 객체 생성\n",
    "if cap.isOpened(): #캡처 객체 초기화 확인\n",
    "    while True:\n",
    "        ret, img = cap.read() #다음 프레임 읽기\n",
    "        if ret: #프레임 읽기 정상\n",
    "            cv2.imshow(video_file, img) # 화면에 표시\n",
    "            cv2.waitKey(25) # 25ms 지연(40fps로 가정)\n",
    "        else: #다음 프레임을 읽을 수 없음\n",
    "            break #재생 완료\n",
    "else:\n",
    "    print(\"can't open video.\") # 캡처 객체 초기화 실패\n",
    "cap.release() # 캡처 자원 반납\n",
    "cv2.destroyAllWindows()"
   ],
   "metadata": {
    "collapsed": false,
    "pycharm": {
     "name": "#%%\n"
    }
   }
  },
  {
   "cell_type": "markdown",
   "source": [
    "### 카메라(웹캠) 프레임 읽기\n",
    "---\n",
    "\n",
    "+ cv2.VideoCapture(num) : 원하는 카메라 장치 연결\n",
    "+ cv2.waitKey()\n",
    "    - 지정한 대기 시간 동안 키 입력이 없으면 -1 반환\n",
    "    - -1이 아니라면 아무 키나 입력이 되었다는 뜻"
   ],
   "metadata": {
    "collapsed": false,
    "pycharm": {
     "name": "#%% md\n"
    }
   }
  },
  {
   "cell_type": "code",
   "execution_count": 5,
   "outputs": [],
   "source": [
    "import cv2\n",
    "cap = cv2.VideoCapture(0) # ① 0번 카메라 장치 연결\n",
    "if cap.isOpened():\n",
    "    while True:\n",
    "        ret, img = cap.read() # 카메라 프레임 읽기\n",
    "        if ret:\n",
    "            cv2.imshow('camera', img) # 프레임 이미지 표시\n",
    "            if cv2.waitKey(1) != -1: # ② 1ms동안 키 입력 대기\n",
    "                break # 아무 키나 눌렸으면 중지\n",
    "        else:\n",
    "            print(\"no frame\")\n",
    "            break\n",
    "else:\n",
    "    print(\"can't open camera\")\n",
    "cap.release()\n",
    "cv2.destroyAllWindows()"
   ],
   "metadata": {
    "collapsed": false,
    "pycharm": {
     "name": "#%%\n"
    }
   }
  },
  {
   "cell_type": "markdown",
   "source": [
    "### 카메라 비디오 속성 제어\n",
    "---\n",
    "\n",
    "#### FPS 조절\n",
    "+ cv.waitKey()\n",
    "    + 전달하는 지연 시간은 밀리초(1/1000초)단위\n",
    "    + 정수만 전달할 수 있으므로 1초를 1000으로 환산해서 정수형으로 변환\n",
    "\n",
    "- 속성 ID : 'cv2.CAP_PROP_'로 시작하는 상수\n",
    "    - cv2.CAP_PROP_FRAME_WIDTH : 프레임 폭\n",
    "    - cv2.CAP_PROP_FRAME_HEIGHT : 프레임 높이\n",
    "    - cv2.CAP_PROP_FPS : 초당 프레임 수\n",
    "    - cv2.CAP_PROP_POS_MSEC : 동영상 파일의 프레임 위치(ms)\n",
    "    - cv2.CAP_PROP_AVI_RATIO : 동영상 파일의 상대 위치(0 : 시작 ,1 : 끝)\n",
    "    - cv2.CAP_PROP_FOURCC : 동영상 파일 코덱 문자\n",
    "    - cv2.CAP_PROP_AUTOFOCUS : 카메라 자동 초점 조절\n",
    "    - cv2.CAP_PROP_ZOOM : 카메라 줌"
   ],
   "metadata": {
    "collapsed": false,
    "pycharm": {
     "name": "#%% md\n"
    }
   }
  },
  {
   "cell_type": "code",
   "execution_count": 8,
   "outputs": [
    {
     "name": "stdout",
     "output_type": "stream",
     "text": [
      "FPS: 29.905063, Delay: 33ms\n"
     ]
    }
   ],
   "source": [
    "import cv2\n",
    "video_file = \"image/dog.mp4\" #동영상 파일 경로\n",
    "cap = cv2.VideoCapture(video_file) #동영상 캡처 객체 생성\n",
    "if cap.isOpened(): #캡처 객체 초기화 확인\n",
    "    fps = cap.get(cv2.CAP_PROP_FPS) #초당 프레임 수 구하기\n",
    "    delay = int(1000/fps) #지연 시간 구하기\n",
    "    print(\"FPS: %f, Delay: %dms\" %(fps, delay))\n",
    "\n",
    "    while True:\n",
    "        ret, img = cap.read() #다음 프레임 읽기\n",
    "        if ret: #프레임 읽기 정상\n",
    "            cv2.imshow(video_file, img) # 화면에 표시\n",
    "            cv2.waitKey(delay) # fps에 맞게 시간 지연\n",
    "        else: #다음 프레임을 읽을 수 없음\n",
    "            break #재생 완료\n",
    "else:\n",
    "    print(\"can't open video.\") # 캡처 객체 초기화 실패\n",
    "cap.release() # 캡처 자원 반납\n",
    "cv2.destroyAllWindows()"
   ],
   "metadata": {
    "collapsed": false,
    "pycharm": {
     "name": "#%%\n"
    }
   }
  },
  {
   "cell_type": "markdown",
   "source": [
    "#### 픽셀 수 조절\n",
    "\n",
    "+ 고화질 영상 조절\n",
    "    + 다음 코드는 카메라가 아닌 동영상 파일 프레임 크기 재지정은 적용되지 않음\n",
    "+ 프레임의 폭과 높이를 제어해서 픽셀 수 조절\n",
    "    + cv2.CAP_PROP_FRAME_WIDTH\n",
    "    + cv2.CAP_PROP_FRAME_HEIGHT"
   ],
   "metadata": {
    "collapsed": false,
    "pycharm": {
     "name": "#%% md\n"
    }
   }
  },
  {
   "cell_type": "code",
   "execution_count": 9,
   "outputs": [
    {
     "name": "stdout",
     "output_type": "stream",
     "text": [
      "Original width : 640, height : 480\n",
      "Resize width : 320, height : 240\n"
     ]
    }
   ],
   "source": [
    "import cv2\n",
    "\n",
    "cap = cv2.VideoCapture(0) # 카메라 0번 장치 연결\n",
    "width = cap.get(cv2.CAP_PROP_FRAME_WIDTH) # 프레임 폭 값 구하기\n",
    "height = cap.get(cv2.CAP_PROP_FRAME_HEIGHT) # 프레임 높이 값 구하기\n",
    "print(\"Original width : %d, height : %d\" % (width, height))\n",
    "\n",
    "cap.set(cv2.CAP_PROP_FRAME_WIDTH, 320) # 프레임 폭을 320으로 설정\n",
    "cap.set(cv2.CAP_PROP_FRAME_HEIGHT, 240) # 프레임 높이를 240으로 설정\n",
    "width = cap.get(cv2.CAP_PROP_FRAME_WIDTH) # 재지정한 프레임 폭 값 구하기\n",
    "height = cap.get(cv2.CAP_PROP_FRAME_HEIGHT) # 재지정한 프레임 높이 값 구하기\n",
    "print(\"Resize width : %d, height : %d\" % (width, height))\n",
    "\n",
    "if cap.isOpened():\n",
    "    while True:\n",
    "        ret, img = cap.read()\n",
    "        if ret:\n",
    "            cv2.imshow('camera', img)\n",
    "            if cv2.waitKey(1) != -1:\n",
    "                break\n",
    "        else:\n",
    "            print(\"no frame!\")\n",
    "            break\n",
    "else:\n",
    "    print(\"can't open camere!\")\n",
    "cap.release()\n",
    "cv2.destroyAllWindows()"
   ],
   "metadata": {
    "collapsed": false,
    "pycharm": {
     "name": "#%%\n"
    }
   }
  },
  {
   "cell_type": "markdown",
   "source": [
    "### 비디오 파일 저장하기\n",
    "---\n",
    "\n",
    "- writer = cv2.VideoWriter(file_path, fourcc, fps, (width, height)) : 비디오 저장 클래스 생성자 함수\n",
    "    - file_path : 비디오 파일 저장 경로\n",
    "    - fourcc : 비디오 인코딩 형식 4글자\n",
    "    - fps : 초당 프레임 수\n",
    "    - (width, height) : 프레임 폭과 프레임 높이\n",
    "    - writer : 생성된 비디오 저장 객체\n",
    "- writer.write(frame) : 프레임 저장\n",
    "    - frame : 저장할 프레임, Numpy 배열\n",
    "- writer.set(id, value) : 프로퍼티 변경\n",
    "- writer.get(id) : 프로퍼티 확인\n",
    "- ret = writer.fourcc(c1, c2, c3, c4) : fource 코드 생성\n",
    "    - c1, c2, c3, c4 : 인코딩 형식 4글자, ‘MJPG’, ‘DIVX’ 등\n",
    "    - ret : fourcc 코드\n",
    "- cv2.VideoWriter_fourcc(c1, c2, c3, c4) : cv2.VideoWriter.fourcc()와 동일"
   ],
   "metadata": {
    "collapsed": false,
    "pycharm": {
     "name": "#%% md\n"
    }
   }
  },
  {
   "cell_type": "code",
   "execution_count": 11,
   "outputs": [],
   "source": [
    "import cv2\n",
    "cap = cv2.VideoCapture(0)\n",
    "\n",
    "if cap.isOpened():\n",
    "    file_path = \"image/recode.avi\" #저장할 파일 경로 이름 ①\n",
    "    fps = 25.40 #FPS, 초당 프레임 수\n",
    "    fourcc = cv2.VideoWriter_fourcc(*\"DIVX\") #인코딩 포맷 문자\n",
    "    width = cap.get(cv2.CAP_PROP_FRAME_WIDTH)\n",
    "    height = cap.get(cv2.CAP_PROP_FRAME_HEIGHT)\n",
    "    size = (int(width), int(height)) #프레임 크기\n",
    "    out = cv2.VideoWriter(file_path, fourcc, fps, size) #VideoWriter 객체 생성\n",
    "    while True:\n",
    "        ret, frame = cap.read()\n",
    "        if ret:\n",
    "            cv2.imshow('camera-recoding', frame)\n",
    "            out.write(frame) #파일 저장\n",
    "            if cv2.waitKey(int(1000/fps)) != -1 :\n",
    "                break\n",
    "        else:\n",
    "            print(\"no frame!\")\n",
    "            break\n",
    "    out.release()\n",
    "else:\n",
    "    print(\"can't open camera\")\n",
    "cap.release()\n",
    "cv2.destroyAllWindows()"
   ],
   "metadata": {
    "collapsed": false,
    "pycharm": {
     "name": "#%%\n"
    }
   }
  },
  {
   "cell_type": "markdown",
   "source": [
    "### 비디오 파일 저장하기\n",
    "---\n",
    "객체나 얼굴을 인식해서 그 영역에 사각형을 그려 표시한 후, 그 이름을 글씨로 표시하는 등의 용도로 자주 활용\n",
    "\n",
    "+ 그림판 역할을 수행할 이미지 만들기"
   ],
   "metadata": {
    "collapsed": false,
    "pycharm": {
     "name": "#%% md\n"
    }
   }
  },
  {
   "cell_type": "code",
   "execution_count": 2,
   "outputs": [
    {
     "data": {
      "text/plain": "True"
     },
     "execution_count": 2,
     "metadata": {},
     "output_type": "execute_result"
    }
   ],
   "source": [
    "import cv2\n",
    "import numpy as np\n",
    "\n",
    "#(500,500,3)의 배열을 생성하여 모든 요소를 255로 채움\n",
    "img = np.full((500,500,3),255,dtype = np.uint8)\n",
    "cv2.imwrite('image/black_500.jpg',img)"
   ],
   "metadata": {
    "collapsed": false,
    "pycharm": {
     "name": "#%%\n"
    }
   }
  },
  {
   "cell_type": "markdown",
   "source": [
    "### 직선그리기\n",
    "---\n",
    "+ cv2.line(img, start, end, color, [thickness, lineType]) : 직선 그리기\n",
    "    - img : 그림 그릴 대상 이미지, Numpy 배열\n",
    "    - start : 선 시작 지점 좌표(x,y)\n",
    "    - end : 선 끝 지점 좌표(x,y)\n",
    "    - color : 선 색상,(Blue, Green, Red), 0~255 #일반적으로 웹에서 사용하는 RGB 순서와 반대라는 것이 특징\n",
    "    - thickness = 1 : 선 두께\n",
    "    - lineType : 선 그리기 형식\n",
    "        - cv2.LINE_4 : 4 연결 선 알고리즘\n",
    "        - cv2.LINE_8 : 8 연결 선 알고리즘\n",
    "        - cv2.LINE_AA : 안티에일리어싱(계단 현상 없는 선)"
   ],
   "metadata": {
    "collapsed": false
   }
  },
  {
   "cell_type": "code",
   "execution_count": 5,
   "outputs": [],
   "source": [
    "import cv2\n",
    "img = cv2.imread('image/black_500.jpg')\n",
    "\n",
    "cv2.line(img, (50,50), (150,50),(255,0,0)) # 파란색 1픽셀 선\n",
    "cv2.line(img, (200,50), (300,50),(0,255,0)) # 초록색 1픽셀 선\n",
    "cv2.line(img, (350,50), (450,50),(0,0,5)) # 빨간색 1픽셀 선\n",
    "\n",
    "cv2.line(img, (100,100), (400,100),(255,255,0), 10) # 하늘색 10 픽셀 선\n",
    "cv2.line(img, (100,150), (400,150),(255,0,255), 10) # 분홍색 10픽셀 선\n",
    "\n",
    "cv2.line(img, (100,350), (400,400), (0,0,255), 20, cv2.LINE_4) #4연결선\n",
    "cv2.line(img, (100,400), (400,450), (0,0,255), 20, cv2.LINE_8) #8연결선\n",
    "cv2.line(img, (100,450), (400,500), (0,0,255), 20, cv2.LINE_AA) #안티에일리어싱 선\n",
    "\n",
    "cv2.line(img, (0,0), (500,500), (0,0,255)) #이미지 전체에 대각선\n",
    "\n",
    "cv2.imshow('lines', img)\n",
    "cv2.imwrite('image/lines.jpg',img)\n",
    "cv2.waitKey(0)\n",
    "cv2.destroyAllWindows()"
   ],
   "metadata": {
    "collapsed": false,
    "pycharm": {
     "name": "#%%\n"
    }
   }
  },
  {
   "cell_type": "markdown",
   "source": [
    "![lines](./image/lines.jpg){: width=\"100\" height=\"100\"}"
   ],
   "metadata": {
    "collapsed": false,
    "pycharm": {
     "name": "#%% md\n",
     "is_executing": true
    }
   },
   "outputs": [
    {
     "name": "stderr",
     "output_type": "stream",
     "text": [
      "'['sdg']'은(는) 내부 또는 외부 명령, 실행할 수 있는 프로그램, 또는\n",
      "배치 파일이 아닙니다.\n"
     ]
    }
   ]
  }
 ],
 "metadata": {
  "kernelspec": {
   "display_name": "Python 3",
   "language": "python",
   "name": "python3"
  },
  "language_info": {
   "codemirror_mode": {
    "name": "ipython",
    "version": 2
   },
   "file_extension": ".py",
   "mimetype": "text/x-python",
   "name": "python",
   "nbconvert_exporter": "python",
   "pygments_lexer": "ipython2",
   "version": "2.7.6"
  }
 },
 "nbformat": 4,
 "nbformat_minor": 0
}